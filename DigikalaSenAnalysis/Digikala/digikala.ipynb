{
 "cells": [
  {
   "cell_type": "code",
   "id": "initial_id",
   "metadata": {
    "collapsed": true,
    "ExecuteTime": {
     "end_time": "2025-05-05T09:39:39.249622Z",
     "start_time": "2025-05-05T09:39:37.995806Z"
    }
   },
   "source": [
    "import numpy as np\n",
    "import pandas as pd\n",
    "from mediapipe.tasks import python\n",
    "from mediapipe.tasks.python import text\n",
    "from parsivar.tokenizer import Tokenizer"
   ],
   "outputs": [],
   "execution_count": 2
  },
  {
   "metadata": {
    "ExecuteTime": {
     "end_time": "2025-05-05T09:40:54.064562Z",
     "start_time": "2025-05-05T09:40:39.996762Z"
    }
   },
   "cell_type": "code",
   "source": [
    "df = pd.read_excel('comment.xlsx', usecols=['comment'])\n",
    "df.head()"
   ],
   "id": "45b9fd2112edbc92",
   "outputs": [
    {
     "data": {
      "text/plain": [
       "                                             comment\n",
       "0  سلام، قبل اینکه نظرم رو بگم میخواستم به یک موض...\n",
       "1  بوی تند ولی خوشبو داره.ماندگاریش خوبه و هر چقد...\n",
       "2  متاسفانه عمر مفید این ماشین کم هست و بعد از دو...\n",
       "3  افا از وقتی من اینو واسه پسرم خریدم همه بچه ها...\n",
       "4  این تیغ محصول کشور آمریکا هست ( در عکس محصول م..."
      ],
      "text/html": [
       "<div>\n",
       "<style scoped>\n",
       "    .dataframe tbody tr th:only-of-type {\n",
       "        vertical-align: middle;\n",
       "    }\n",
       "\n",
       "    .dataframe tbody tr th {\n",
       "        vertical-align: top;\n",
       "    }\n",
       "\n",
       "    .dataframe thead th {\n",
       "        text-align: right;\n",
       "    }\n",
       "</style>\n",
       "<table border=\"1\" class=\"dataframe\">\n",
       "  <thead>\n",
       "    <tr style=\"text-align: right;\">\n",
       "      <th></th>\n",
       "      <th>comment</th>\n",
       "    </tr>\n",
       "  </thead>\n",
       "  <tbody>\n",
       "    <tr>\n",
       "      <th>0</th>\n",
       "      <td>سلام، قبل اینکه نظرم رو بگم میخواستم به یک موض...</td>\n",
       "    </tr>\n",
       "    <tr>\n",
       "      <th>1</th>\n",
       "      <td>بوی تند ولی خوشبو داره.ماندگاریش خوبه و هر چقد...</td>\n",
       "    </tr>\n",
       "    <tr>\n",
       "      <th>2</th>\n",
       "      <td>متاسفانه عمر مفید این ماشین کم هست و بعد از دو...</td>\n",
       "    </tr>\n",
       "    <tr>\n",
       "      <th>3</th>\n",
       "      <td>افا از وقتی من اینو واسه پسرم خریدم همه بچه ها...</td>\n",
       "    </tr>\n",
       "    <tr>\n",
       "      <th>4</th>\n",
       "      <td>این تیغ محصول کشور آمریکا هست ( در عکس محصول م...</td>\n",
       "    </tr>\n",
       "  </tbody>\n",
       "</table>\n",
       "</div>"
      ]
     },
     "execution_count": 4,
     "metadata": {},
     "output_type": "execute_result"
    }
   ],
   "execution_count": 4
  },
  {
   "metadata": {
    "ExecuteTime": {
     "end_time": "2025-05-05T09:41:09.155242Z",
     "start_time": "2025-05-05T09:41:09.134663Z"
    }
   },
   "cell_type": "code",
   "source": "df.info()",
   "id": "6926ea9324a30043",
   "outputs": [
    {
     "name": "stdout",
     "output_type": "stream",
     "text": [
      "<class 'pandas.core.frame.DataFrame'>\n",
      "RangeIndex: 100008 entries, 0 to 100007\n",
      "Data columns (total 1 columns):\n",
      " #   Column   Non-Null Count  Dtype \n",
      "---  ------   --------------  ----- \n",
      " 0   comment  99903 non-null  object\n",
      "dtypes: object(1)\n",
      "memory usage: 781.4+ KB\n"
     ]
    }
   ],
   "execution_count": 5
  },
  {
   "metadata": {
    "ExecuteTime": {
     "end_time": "2025-05-05T09:41:37.698128Z",
     "start_time": "2025-05-05T09:41:34.801586Z"
    }
   },
   "cell_type": "code",
   "source": [
    "sentences = []\n",
    "\n",
    "def tokenizer(text):\n",
    "    tokenizer = Tokenizer()\n",
    "    tokens = tokenizer.tokenize_sentences(str(text))\n",
    "    \n",
    "    for token in tokens:\n",
    "        sentences.append(token)\n",
    "\n",
    "df['comment'].apply(tokenizer)"
   ],
   "id": "5ca4a45e7578c4d2",
   "outputs": [
    {
     "data": {
      "text/plain": [
       "0         None\n",
       "1         None\n",
       "2         None\n",
       "3         None\n",
       "4         None\n",
       "          ... \n",
       "100003    None\n",
       "100004    None\n",
       "100005    None\n",
       "100006    None\n",
       "100007    None\n",
       "Name: comment, Length: 100008, dtype: object"
      ]
     },
     "execution_count": 6,
     "metadata": {},
     "output_type": "execute_result"
    }
   ],
   "execution_count": 6
  },
  {
   "metadata": {
    "ExecuteTime": {
     "end_time": "2025-05-05T09:41:45.233114Z",
     "start_time": "2025-05-05T09:41:45.189191Z"
    }
   },
   "cell_type": "code",
   "source": [
    "sentences_df = pd.DataFrame(sentences, columns=['comment'])\n",
    "sentences_df.head()"
   ],
   "id": "5b718fc293491359",
   "outputs": [
    {
     "data": {
      "text/plain": [
       "                                             comment\n",
       "0  سلام، قبل اینکه نظرم رو بگم میخواستم به یک موض...\n",
       "1          پس بهتره ک نظر غیر کارشناسی و الکی ندیم .\n",
       "2  من ۲سال این پاور بانک رو دارم، برای ۲نفر اشنا ...\n",
       "3  همزمان با این پاور یک adata 10000 هم برای همسر...\n",
       "4  طبق تجربه من و اطرافیانم ک شیائومی داشتن، اگر ..."
      ],
      "text/html": [
       "<div>\n",
       "<style scoped>\n",
       "    .dataframe tbody tr th:only-of-type {\n",
       "        vertical-align: middle;\n",
       "    }\n",
       "\n",
       "    .dataframe tbody tr th {\n",
       "        vertical-align: top;\n",
       "    }\n",
       "\n",
       "    .dataframe thead th {\n",
       "        text-align: right;\n",
       "    }\n",
       "</style>\n",
       "<table border=\"1\" class=\"dataframe\">\n",
       "  <thead>\n",
       "    <tr style=\"text-align: right;\">\n",
       "      <th></th>\n",
       "      <th>comment</th>\n",
       "    </tr>\n",
       "  </thead>\n",
       "  <tbody>\n",
       "    <tr>\n",
       "      <th>0</th>\n",
       "      <td>سلام، قبل اینکه نظرم رو بگم میخواستم به یک موض...</td>\n",
       "    </tr>\n",
       "    <tr>\n",
       "      <th>1</th>\n",
       "      <td>پس بهتره ک نظر غیر کارشناسی و الکی ندیم .</td>\n",
       "    </tr>\n",
       "    <tr>\n",
       "      <th>2</th>\n",
       "      <td>من ۲سال این پاور بانک رو دارم، برای ۲نفر اشنا ...</td>\n",
       "    </tr>\n",
       "    <tr>\n",
       "      <th>3</th>\n",
       "      <td>همزمان با این پاور یک adata 10000 هم برای همسر...</td>\n",
       "    </tr>\n",
       "    <tr>\n",
       "      <th>4</th>\n",
       "      <td>طبق تجربه من و اطرافیانم ک شیائومی داشتن، اگر ...</td>\n",
       "    </tr>\n",
       "  </tbody>\n",
       "</table>\n",
       "</div>"
      ]
     },
     "execution_count": 7,
     "metadata": {},
     "output_type": "execute_result"
    }
   ],
   "execution_count": 7
  },
  {
   "metadata": {
    "ExecuteTime": {
     "end_time": "2025-05-05T09:42:05.638005Z",
     "start_time": "2025-05-05T09:42:05.635007Z"
    }
   },
   "cell_type": "code",
   "source": [
    "base_options = python.BaseOptions(model_asset_path='bert_embedder.tflite')\n",
    "\n",
    "l2_normalize = True\n",
    "quantize = True\n",
    "\n",
    "options = text.TextEmbedderOptions(base_options=base_options, l2_normalize=l2_normalize, quantize=quantize)"
   ],
   "id": "79dfcc52d884bcb2",
   "outputs": [],
   "execution_count": 8
  },
  {
   "metadata": {
    "ExecuteTime": {
     "end_time": "2025-05-05T09:47:08.696910Z",
     "start_time": "2025-05-05T09:45:30.803405Z"
    }
   },
   "cell_type": "code",
   "source": [
    "def embedding(comment):\n",
    "    with text.TextEmbedder.create_from_options(options) as embedder:\n",
    "        embedding_result = embedder.embed(comment)\n",
    "        return embedding_result.embeddings[0].embedding\n",
    "    \n",
    "sample_embedded_comments = sentences_df['comment'].iloc[0:1000].apply(embedding)"
   ],
   "id": "dbc126bae0a90585",
   "outputs": [],
   "execution_count": 14
  },
  {
   "metadata": {
    "ExecuteTime": {
     "end_time": "2025-05-05T09:48:03.493010Z",
     "start_time": "2025-05-05T09:48:00.864435Z"
    }
   },
   "cell_type": "code",
   "source": [
    "embedded_df = pd.DataFrame(sample_embedded_comments.tolist())\n",
    "embedded_df.head()"
   ],
   "id": "a52824df9d7e7be9",
   "outputs": [
    {
     "data": {
      "text/plain": [
       "   0    1    2    3    4    5    6    7    8    9    ...  502  503  504  505  \\\n",
       "0   10  250    1    5  253  251  255    7   12    6  ...    0    9    4    0   \n",
       "1   12  249  253  251    0  251    5    8   12   11  ...    3   14    4  253   \n",
       "2   11  249    0    5  253  249    0    8   13    4  ...    0    6    5    0   \n",
       "3   13  250  254  255  255  248    3    8   13    8  ...    1   11    3  254   \n",
       "4   13  252  253    2  254  248    2    8   11    6  ...    0   10    3  253   \n",
       "\n",
       "   506  507  508  509  510  511  \n",
       "0  255   13    3  255  255  247  \n",
       "1  255    9  255  252    0  241  \n",
       "2  254   12    2    0  255  246  \n",
       "3  254   10    1  252    0  242  \n",
       "4  254   10    4  254  255  244  \n",
       "\n",
       "[5 rows x 512 columns]"
      ],
      "text/html": [
       "<div>\n",
       "<style scoped>\n",
       "    .dataframe tbody tr th:only-of-type {\n",
       "        vertical-align: middle;\n",
       "    }\n",
       "\n",
       "    .dataframe tbody tr th {\n",
       "        vertical-align: top;\n",
       "    }\n",
       "\n",
       "    .dataframe thead th {\n",
       "        text-align: right;\n",
       "    }\n",
       "</style>\n",
       "<table border=\"1\" class=\"dataframe\">\n",
       "  <thead>\n",
       "    <tr style=\"text-align: right;\">\n",
       "      <th></th>\n",
       "      <th>0</th>\n",
       "      <th>1</th>\n",
       "      <th>2</th>\n",
       "      <th>3</th>\n",
       "      <th>4</th>\n",
       "      <th>5</th>\n",
       "      <th>6</th>\n",
       "      <th>7</th>\n",
       "      <th>8</th>\n",
       "      <th>9</th>\n",
       "      <th>...</th>\n",
       "      <th>502</th>\n",
       "      <th>503</th>\n",
       "      <th>504</th>\n",
       "      <th>505</th>\n",
       "      <th>506</th>\n",
       "      <th>507</th>\n",
       "      <th>508</th>\n",
       "      <th>509</th>\n",
       "      <th>510</th>\n",
       "      <th>511</th>\n",
       "    </tr>\n",
       "  </thead>\n",
       "  <tbody>\n",
       "    <tr>\n",
       "      <th>0</th>\n",
       "      <td>10</td>\n",
       "      <td>250</td>\n",
       "      <td>1</td>\n",
       "      <td>5</td>\n",
       "      <td>253</td>\n",
       "      <td>251</td>\n",
       "      <td>255</td>\n",
       "      <td>7</td>\n",
       "      <td>12</td>\n",
       "      <td>6</td>\n",
       "      <td>...</td>\n",
       "      <td>0</td>\n",
       "      <td>9</td>\n",
       "      <td>4</td>\n",
       "      <td>0</td>\n",
       "      <td>255</td>\n",
       "      <td>13</td>\n",
       "      <td>3</td>\n",
       "      <td>255</td>\n",
       "      <td>255</td>\n",
       "      <td>247</td>\n",
       "    </tr>\n",
       "    <tr>\n",
       "      <th>1</th>\n",
       "      <td>12</td>\n",
       "      <td>249</td>\n",
       "      <td>253</td>\n",
       "      <td>251</td>\n",
       "      <td>0</td>\n",
       "      <td>251</td>\n",
       "      <td>5</td>\n",
       "      <td>8</td>\n",
       "      <td>12</td>\n",
       "      <td>11</td>\n",
       "      <td>...</td>\n",
       "      <td>3</td>\n",
       "      <td>14</td>\n",
       "      <td>4</td>\n",
       "      <td>253</td>\n",
       "      <td>255</td>\n",
       "      <td>9</td>\n",
       "      <td>255</td>\n",
       "      <td>252</td>\n",
       "      <td>0</td>\n",
       "      <td>241</td>\n",
       "    </tr>\n",
       "    <tr>\n",
       "      <th>2</th>\n",
       "      <td>11</td>\n",
       "      <td>249</td>\n",
       "      <td>0</td>\n",
       "      <td>5</td>\n",
       "      <td>253</td>\n",
       "      <td>249</td>\n",
       "      <td>0</td>\n",
       "      <td>8</td>\n",
       "      <td>13</td>\n",
       "      <td>4</td>\n",
       "      <td>...</td>\n",
       "      <td>0</td>\n",
       "      <td>6</td>\n",
       "      <td>5</td>\n",
       "      <td>0</td>\n",
       "      <td>254</td>\n",
       "      <td>12</td>\n",
       "      <td>2</td>\n",
       "      <td>0</td>\n",
       "      <td>255</td>\n",
       "      <td>246</td>\n",
       "    </tr>\n",
       "    <tr>\n",
       "      <th>3</th>\n",
       "      <td>13</td>\n",
       "      <td>250</td>\n",
       "      <td>254</td>\n",
       "      <td>255</td>\n",
       "      <td>255</td>\n",
       "      <td>248</td>\n",
       "      <td>3</td>\n",
       "      <td>8</td>\n",
       "      <td>13</td>\n",
       "      <td>8</td>\n",
       "      <td>...</td>\n",
       "      <td>1</td>\n",
       "      <td>11</td>\n",
       "      <td>3</td>\n",
       "      <td>254</td>\n",
       "      <td>254</td>\n",
       "      <td>10</td>\n",
       "      <td>1</td>\n",
       "      <td>252</td>\n",
       "      <td>0</td>\n",
       "      <td>242</td>\n",
       "    </tr>\n",
       "    <tr>\n",
       "      <th>4</th>\n",
       "      <td>13</td>\n",
       "      <td>252</td>\n",
       "      <td>253</td>\n",
       "      <td>2</td>\n",
       "      <td>254</td>\n",
       "      <td>248</td>\n",
       "      <td>2</td>\n",
       "      <td>8</td>\n",
       "      <td>11</td>\n",
       "      <td>6</td>\n",
       "      <td>...</td>\n",
       "      <td>0</td>\n",
       "      <td>10</td>\n",
       "      <td>3</td>\n",
       "      <td>253</td>\n",
       "      <td>254</td>\n",
       "      <td>10</td>\n",
       "      <td>4</td>\n",
       "      <td>254</td>\n",
       "      <td>255</td>\n",
       "      <td>244</td>\n",
       "    </tr>\n",
       "  </tbody>\n",
       "</table>\n",
       "<p>5 rows × 512 columns</p>\n",
       "</div>"
      ]
     },
     "execution_count": 15,
     "metadata": {},
     "output_type": "execute_result"
    }
   ],
   "execution_count": 15
  },
  {
   "metadata": {
    "ExecuteTime": {
     "end_time": "2025-05-05T09:52:04.697135Z",
     "start_time": "2025-05-05T09:52:04.413557Z"
    }
   },
   "cell_type": "code",
   "source": [
    "from sklearn.cluster import HDBSCAN\n",
    "\n",
    "#Not Completed\n",
    "dbscan = HDBSCAN(min_samples=50, n_jobs=-1)\n",
    "labels = dbscan.fit_predict(embedded_df)\n",
    "\n",
    "final_df = pd.DataFrame({'label': labels, 'comment': sentences_df['comment'].iloc[0:1000]})\n",
    "final_df"
   ],
   "id": "611051920f2a4cbc",
   "outputs": [
    {
     "data": {
      "text/plain": [
       "     label                                            comment\n",
       "0        0  سلام، قبل اینکه نظرم رو بگم میخواستم به یک موض...\n",
       "1        0          پس بهتره ک نظر غیر کارشناسی و الکی ندیم .\n",
       "2        0  من ۲سال این پاور بانک رو دارم، برای ۲نفر اشنا ...\n",
       "3        0  همزمان با این پاور یک adata 10000 هم برای همسر...\n",
       "4        0  طبق تجربه من و اطرافیانم ک شیائومی داشتن، اگر ...\n",
       "..     ...                                                ...\n",
       "995     -1                                          باسلام  .\n",
       "996      0   نسبت به قیمتی که داره بسیار عالی و مقرون به ص...\n",
       "997      0  گوشی خوبیه یکساله دارم تا حالا به مشکل نخوردم ...\n",
       "998      1  اگه برای کارای روزمره مث زنگ زدن و پیام دادن و...\n",
       "999      1                          با عرض سلام خدمت دوستان :\n",
       "\n",
       "[1000 rows x 2 columns]"
      ],
      "text/html": [
       "<div>\n",
       "<style scoped>\n",
       "    .dataframe tbody tr th:only-of-type {\n",
       "        vertical-align: middle;\n",
       "    }\n",
       "\n",
       "    .dataframe tbody tr th {\n",
       "        vertical-align: top;\n",
       "    }\n",
       "\n",
       "    .dataframe thead th {\n",
       "        text-align: right;\n",
       "    }\n",
       "</style>\n",
       "<table border=\"1\" class=\"dataframe\">\n",
       "  <thead>\n",
       "    <tr style=\"text-align: right;\">\n",
       "      <th></th>\n",
       "      <th>label</th>\n",
       "      <th>comment</th>\n",
       "    </tr>\n",
       "  </thead>\n",
       "  <tbody>\n",
       "    <tr>\n",
       "      <th>0</th>\n",
       "      <td>0</td>\n",
       "      <td>سلام، قبل اینکه نظرم رو بگم میخواستم به یک موض...</td>\n",
       "    </tr>\n",
       "    <tr>\n",
       "      <th>1</th>\n",
       "      <td>0</td>\n",
       "      <td>پس بهتره ک نظر غیر کارشناسی و الکی ندیم .</td>\n",
       "    </tr>\n",
       "    <tr>\n",
       "      <th>2</th>\n",
       "      <td>0</td>\n",
       "      <td>من ۲سال این پاور بانک رو دارم، برای ۲نفر اشنا ...</td>\n",
       "    </tr>\n",
       "    <tr>\n",
       "      <th>3</th>\n",
       "      <td>0</td>\n",
       "      <td>همزمان با این پاور یک adata 10000 هم برای همسر...</td>\n",
       "    </tr>\n",
       "    <tr>\n",
       "      <th>4</th>\n",
       "      <td>0</td>\n",
       "      <td>طبق تجربه من و اطرافیانم ک شیائومی داشتن، اگر ...</td>\n",
       "    </tr>\n",
       "    <tr>\n",
       "      <th>...</th>\n",
       "      <td>...</td>\n",
       "      <td>...</td>\n",
       "    </tr>\n",
       "    <tr>\n",
       "      <th>995</th>\n",
       "      <td>-1</td>\n",
       "      <td>باسلام  .</td>\n",
       "    </tr>\n",
       "    <tr>\n",
       "      <th>996</th>\n",
       "      <td>0</td>\n",
       "      <td>نسبت به قیمتی که داره بسیار عالی و مقرون به ص...</td>\n",
       "    </tr>\n",
       "    <tr>\n",
       "      <th>997</th>\n",
       "      <td>0</td>\n",
       "      <td>گوشی خوبیه یکساله دارم تا حالا به مشکل نخوردم ...</td>\n",
       "    </tr>\n",
       "    <tr>\n",
       "      <th>998</th>\n",
       "      <td>1</td>\n",
       "      <td>اگه برای کارای روزمره مث زنگ زدن و پیام دادن و...</td>\n",
       "    </tr>\n",
       "    <tr>\n",
       "      <th>999</th>\n",
       "      <td>1</td>\n",
       "      <td>با عرض سلام خدمت دوستان :</td>\n",
       "    </tr>\n",
       "  </tbody>\n",
       "</table>\n",
       "<p>1000 rows × 2 columns</p>\n",
       "</div>"
      ]
     },
     "execution_count": 23,
     "metadata": {},
     "output_type": "execute_result"
    }
   ],
   "execution_count": 23
  }
 ],
 "metadata": {
  "kernelspec": {
   "display_name": "Python 3",
   "language": "python",
   "name": "python3"
  },
  "language_info": {
   "codemirror_mode": {
    "name": "ipython",
    "version": 2
   },
   "file_extension": ".py",
   "mimetype": "text/x-python",
   "name": "python",
   "nbconvert_exporter": "python",
   "pygments_lexer": "ipython2",
   "version": "2.7.6"
  }
 },
 "nbformat": 4,
 "nbformat_minor": 5
}
