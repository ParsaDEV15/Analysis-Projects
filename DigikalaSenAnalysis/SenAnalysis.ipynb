{
 "nbformat": 4,
 "nbformat_minor": 0,
 "metadata": {
  "colab": {
   "provenance": []
  },
  "kernelspec": {
   "name": "python3",
   "display_name": "Python 3 (ipykernel)",
   "language": "python"
  },
  "language_info": {
   "name": "python"
  }
 },
 "cells": [
  {
   "cell_type": "code",
   "source": [
    "import pandas as pd\n",
    "import numpy as np\n",
    "import seaborn as sns"
   ],
   "metadata": {
    "id": "gCshWOd97q--",
    "ExecuteTime": {
     "end_time": "2025-05-13T19:55:29.965746Z",
     "start_time": "2025-05-13T19:55:29.962176Z"
    }
   },
   "outputs": [],
   "execution_count": 204
  },
  {
   "cell_type": "code",
   "source": [
    "comments = pd.read_excel(\"Datasets/comment.xlsx\", usecols=['comment'])\n",
    "products = pd.read_excel('Datasets/product.xlsx', usecols=['category_title_fa', 'category_keywords'])"
   ],
   "metadata": {
    "id": "QY1bDyU665RW",
    "ExecuteTime": {
     "end_time": "2025-05-13T16:59:43.440715Z",
     "start_time": "2025-05-13T16:59:25.882679Z"
    }
   },
   "outputs": [],
   "execution_count": 157
  },
  {
   "cell_type": "code",
   "source": [
    "comments.head()"
   ],
   "metadata": {
    "colab": {
     "base_uri": "https://localhost:8080/",
     "height": 206
    },
    "id": "yiBjuLym85Em",
    "outputId": "f20caf69-2b50-4e1f-9fa1-bcf2e68a350c",
    "ExecuteTime": {
     "end_time": "2025-05-13T15:44:10.786936Z",
     "start_time": "2025-05-13T15:44:10.782911Z"
    }
   },
   "outputs": [
    {
     "data": {
      "text/plain": [
       "                                             comment\n",
       "0  سلام، قبل اینکه نظرم رو بگم میخواستم به یک موض...\n",
       "1  بوی تند ولی خوشبو داره.ماندگاریش خوبه و هر چقد...\n",
       "2  متاسفانه عمر مفید این ماشین کم هست و بعد از دو...\n",
       "3  افا از وقتی من اینو واسه پسرم خریدم همه بچه ها...\n",
       "4  این تیغ محصول کشور آمریکا هست ( در عکس محصول م..."
      ],
      "text/html": [
       "<div>\n",
       "<style scoped>\n",
       "    .dataframe tbody tr th:only-of-type {\n",
       "        vertical-align: middle;\n",
       "    }\n",
       "\n",
       "    .dataframe tbody tr th {\n",
       "        vertical-align: top;\n",
       "    }\n",
       "\n",
       "    .dataframe thead th {\n",
       "        text-align: right;\n",
       "    }\n",
       "</style>\n",
       "<table border=\"1\" class=\"dataframe\">\n",
       "  <thead>\n",
       "    <tr style=\"text-align: right;\">\n",
       "      <th></th>\n",
       "      <th>comment</th>\n",
       "    </tr>\n",
       "  </thead>\n",
       "  <tbody>\n",
       "    <tr>\n",
       "      <th>0</th>\n",
       "      <td>سلام، قبل اینکه نظرم رو بگم میخواستم به یک موض...</td>\n",
       "    </tr>\n",
       "    <tr>\n",
       "      <th>1</th>\n",
       "      <td>بوی تند ولی خوشبو داره.ماندگاریش خوبه و هر چقد...</td>\n",
       "    </tr>\n",
       "    <tr>\n",
       "      <th>2</th>\n",
       "      <td>متاسفانه عمر مفید این ماشین کم هست و بعد از دو...</td>\n",
       "    </tr>\n",
       "    <tr>\n",
       "      <th>3</th>\n",
       "      <td>افا از وقتی من اینو واسه پسرم خریدم همه بچه ها...</td>\n",
       "    </tr>\n",
       "    <tr>\n",
       "      <th>4</th>\n",
       "      <td>این تیغ محصول کشور آمریکا هست ( در عکس محصول م...</td>\n",
       "    </tr>\n",
       "  </tbody>\n",
       "</table>\n",
       "</div>"
      ]
     },
     "execution_count": 84,
     "metadata": {},
     "output_type": "execute_result"
    }
   ],
   "execution_count": 84
  },
  {
   "cell_type": "code",
   "source": [
    "products.head()"
   ],
   "metadata": {
    "colab": {
     "base_uri": "https://localhost:8080/",
     "height": 206
    },
    "id": "YEgR_SZF9GjX",
    "outputId": "97a2633c-b93b-4ac3-eb5b-3ca704b34e14",
    "ExecuteTime": {
     "end_time": "2025-05-13T15:44:10.792264Z",
     "start_time": "2025-05-13T15:44:10.787442Z"
    }
   },
   "outputs": [
    {
     "data": {
      "text/plain": [
       "    category_title_fa             category_keywords\n",
       "0  ماگ، لیوان و فنجان  ماگ، لیوان و فنجان CupandMug\n",
       "1        آبکش و آبگیر       آبکش و آبگیر VirgoBasin\n",
       "2           روغن صورت            روغن صورت Face-Oil\n",
       "3          سرویس خواب           سرویس خواب SleepSet\n",
       "4  ماگ، لیوان و فنجان  ماگ، لیوان و فنجان CupandMug"
      ],
      "text/html": [
       "<div>\n",
       "<style scoped>\n",
       "    .dataframe tbody tr th:only-of-type {\n",
       "        vertical-align: middle;\n",
       "    }\n",
       "\n",
       "    .dataframe tbody tr th {\n",
       "        vertical-align: top;\n",
       "    }\n",
       "\n",
       "    .dataframe thead th {\n",
       "        text-align: right;\n",
       "    }\n",
       "</style>\n",
       "<table border=\"1\" class=\"dataframe\">\n",
       "  <thead>\n",
       "    <tr style=\"text-align: right;\">\n",
       "      <th></th>\n",
       "      <th>category_title_fa</th>\n",
       "      <th>category_keywords</th>\n",
       "    </tr>\n",
       "  </thead>\n",
       "  <tbody>\n",
       "    <tr>\n",
       "      <th>0</th>\n",
       "      <td>ماگ، لیوان و فنجان</td>\n",
       "      <td>ماگ، لیوان و فنجان CupandMug</td>\n",
       "    </tr>\n",
       "    <tr>\n",
       "      <th>1</th>\n",
       "      <td>آبکش و آبگیر</td>\n",
       "      <td>آبکش و آبگیر VirgoBasin</td>\n",
       "    </tr>\n",
       "    <tr>\n",
       "      <th>2</th>\n",
       "      <td>روغن صورت</td>\n",
       "      <td>روغن صورت Face-Oil</td>\n",
       "    </tr>\n",
       "    <tr>\n",
       "      <th>3</th>\n",
       "      <td>سرویس خواب</td>\n",
       "      <td>سرویس خواب SleepSet</td>\n",
       "    </tr>\n",
       "    <tr>\n",
       "      <th>4</th>\n",
       "      <td>ماگ، لیوان و فنجان</td>\n",
       "      <td>ماگ، لیوان و فنجان CupandMug</td>\n",
       "    </tr>\n",
       "  </tbody>\n",
       "</table>\n",
       "</div>"
      ]
     },
     "execution_count": 85,
     "metadata": {},
     "output_type": "execute_result"
    }
   ],
   "execution_count": 85
  },
  {
   "cell_type": "code",
   "source": [
    "from parsivar.normalizer import Normalizer\n",
    "from parsivar.tokenizer import Tokenizer\n",
    "\n",
    "values = np.hstack([products[\"category_title_fa\"].dropna().values, \n",
    "                    products['category_keywords'].dropna().values])\n",
    "\n",
    "all_words = \" \".join(values)\n",
    "\n",
    "tokenizer = Tokenizer()\n",
    "tokens = tokenizer.tokenize_words(all_words)\n",
    "\n",
    "words_set = set(tokens)\n",
    "len(words_set)"
   ],
   "metadata": {
    "colab": {
     "base_uri": "https://localhost:8080/"
    },
    "id": "LxCTB6gS_AcH",
    "outputId": "29f734f6-d8ec-46e2-ebcc-397d2b8a5fdc",
    "ExecuteTime": {
     "end_time": "2025-05-13T16:59:43.609632Z",
     "start_time": "2025-05-13T16:59:43.441719Z"
    }
   },
   "outputs": [
    {
     "data": {
      "text/plain": [
       "2454"
      ]
     },
     "execution_count": 158,
     "metadata": {},
     "output_type": "execute_result"
    }
   ],
   "execution_count": 158
  },
  {
   "cell_type": "code",
   "source": [
    "import re\n",
    "\n",
    "keywords = []\n",
    "normalizer = Normalizer()\n",
    "\n",
    "def clean_text(text):\n",
    "    text = str(text)\n",
    "    cleaned_text = re.sub(r'[A-Za-z\\d]+', ' ', text)\n",
    "    cleaned_text = re.sub(r'^\\u0600-\\u06FF\\s', ' ', cleaned_text)\n",
    "    cleaned_text = re.sub(r'[^\\w\\s]', ' ', cleaned_text)\n",
    "    cleaned_text = re.sub(r'\\s+', ' ', cleaned_text)\n",
    "    normed_text = normalizer.normalize(cleaned_text)\n",
    "    \n",
    "    if len(list(normed_text)) <= 512:\n",
    "        return normed_text\n",
    "    else:\n",
    "        return np.nan"
   ],
   "metadata": {
    "id": "95GxbPmn9TJ2",
    "ExecuteTime": {
     "end_time": "2025-05-13T16:59:49.577687Z",
     "start_time": "2025-05-13T16:59:49.573244Z"
    }
   },
   "outputs": [],
   "execution_count": 160
  },
  {
   "cell_type": "code",
   "source": [
    "comments = comments.iloc[:10000]\n",
    "\n",
    "cleaned_comments = comments[\"comment\"].apply(clean_text).dropna()\n",
    "cleaned_comments"
   ],
   "metadata": {
    "colab": {
     "base_uri": "https://localhost:8080/",
     "height": 1000
    },
    "id": "vnyMObTQAi1l",
    "outputId": "4149075a-fd2e-4c1d-9f5c-805816cdd635",
    "ExecuteTime": {
     "end_time": "2025-05-13T17:14:36.989946Z",
     "start_time": "2025-05-13T17:14:35.179294Z"
    }
   },
   "outputs": [
    {
     "data": {
      "text/plain": [
       "1       بوی تند ولی خوشبو داره ماندگاریش خوبه و هر چقد...\n",
       "2       متاسفانه عمر مفید این ماشین کم هست و بعد از دو...\n",
       "3       افا از وقتی من اینو واسه پسرم خریدم همه بچه‌ها...\n",
       "4       این تیغ محصول کشور آمریکا هست در عکس محصول مشخ...\n",
       "5       سرعت گرم و علی‌الخصوص سرد کردن خیلی پایین هست ...\n",
       "                              ...                        \n",
       "9995             این فوق العاده است اگه تخری از دستت رفته\n",
       "9996                   بدترین چراغ قوه‌ای که تا حالا دیدم\n",
       "9997    سه جفت خروجی ولت کیفیت صدا اصلا قابل مقایسه با...\n",
       "9998    این ادوتویلت بسیار شکیل و بوی خاص و ماندگاری خ...\n",
       "9999    ظریف و نازک هست به همین علت زیر لباس معلوم نمی...\n",
       "Name: comment, Length: 9321, dtype: object"
      ]
     },
     "execution_count": 163,
     "metadata": {},
     "output_type": "execute_result"
    }
   ],
   "execution_count": 163
  },
  {
   "cell_type": "code",
   "source": "cleaned_comments.to_csv('Datasets/cleaned_comments.csv')",
   "metadata": {
    "id": "FpKvg-MZB9-H",
    "ExecuteTime": {
     "end_time": "2025-05-13T17:14:40.767520Z",
     "start_time": "2025-05-13T17:14:40.741126Z"
    }
   },
   "outputs": [],
   "execution_count": 164
  },
  {
   "metadata": {},
   "cell_type": "markdown",
   "source": [
    "### Labeling comments process on Google Colab\n",
    "<a href=\"https://colab.research.google.com/drive/1nP4hc6OU-LKIJcjzDIQgrFeSFfq7VrgY?usp=sharing\" style=\"color:red;\">Colab Link</a>"
   ]
  },
  {
   "metadata": {
    "ExecuteTime": {
     "end_time": "2025-05-13T20:13:46.055018Z",
     "start_time": "2025-05-13T20:13:46.018992Z"
    }
   },
   "cell_type": "code",
   "source": [
    "labeled_comments = pd.read_csv('Datasets/labeled_comments.csv', index_col=0)\n",
    "labeled_comments"
   ],
   "outputs": [
    {
     "data": {
      "text/plain": [
       "                                                comment     labels    scores\n",
       "0     بوی تند ولی خوشبو داره ماندگاریش خوبه و هر چقد...      happy  0.985857\n",
       "1     متاسفانه عمر مفید این ماشین کم هست و بعد از دو...      angry  0.942945\n",
       "2     افا از وقتی من اینو واسه پسرم خریدم همه بچه‌ها...    neutral  0.346233\n",
       "3     این تیغ محصول کشور آمریکا هست در عکس محصول مشخ...      happy  0.996132\n",
       "4     سرعت گرم و علی‌الخصوص سرد کردن خیلی پایین هست ...  delighted  0.995794\n",
       "...                                                 ...        ...       ...\n",
       "9316           این فوق العاده است اگه تخری از دستت رفته  delighted  0.919844\n",
       "9317                 بدترین چراغ قوه‌ای که تا حالا دیدم  delighted  0.479886\n",
       "9318  سه جفت خروجی ولت کیفیت صدا اصلا قابل مقایسه با...  delighted  0.484131\n",
       "9319  این ادوتویلت بسیار شکیل و بوی خاص و ماندگاری خ...  delighted  0.993633\n",
       "9320  ظریف و نازک هست به همین علت زیر لباس معلوم نمی...      happy  0.976984\n",
       "\n",
       "[9321 rows x 3 columns]"
      ],
      "text/html": [
       "<div>\n",
       "<style scoped>\n",
       "    .dataframe tbody tr th:only-of-type {\n",
       "        vertical-align: middle;\n",
       "    }\n",
       "\n",
       "    .dataframe tbody tr th {\n",
       "        vertical-align: top;\n",
       "    }\n",
       "\n",
       "    .dataframe thead th {\n",
       "        text-align: right;\n",
       "    }\n",
       "</style>\n",
       "<table border=\"1\" class=\"dataframe\">\n",
       "  <thead>\n",
       "    <tr style=\"text-align: right;\">\n",
       "      <th></th>\n",
       "      <th>comment</th>\n",
       "      <th>labels</th>\n",
       "      <th>scores</th>\n",
       "    </tr>\n",
       "  </thead>\n",
       "  <tbody>\n",
       "    <tr>\n",
       "      <th>0</th>\n",
       "      <td>بوی تند ولی خوشبو داره ماندگاریش خوبه و هر چقد...</td>\n",
       "      <td>happy</td>\n",
       "      <td>0.985857</td>\n",
       "    </tr>\n",
       "    <tr>\n",
       "      <th>1</th>\n",
       "      <td>متاسفانه عمر مفید این ماشین کم هست و بعد از دو...</td>\n",
       "      <td>angry</td>\n",
       "      <td>0.942945</td>\n",
       "    </tr>\n",
       "    <tr>\n",
       "      <th>2</th>\n",
       "      <td>افا از وقتی من اینو واسه پسرم خریدم همه بچه‌ها...</td>\n",
       "      <td>neutral</td>\n",
       "      <td>0.346233</td>\n",
       "    </tr>\n",
       "    <tr>\n",
       "      <th>3</th>\n",
       "      <td>این تیغ محصول کشور آمریکا هست در عکس محصول مشخ...</td>\n",
       "      <td>happy</td>\n",
       "      <td>0.996132</td>\n",
       "    </tr>\n",
       "    <tr>\n",
       "      <th>4</th>\n",
       "      <td>سرعت گرم و علی‌الخصوص سرد کردن خیلی پایین هست ...</td>\n",
       "      <td>delighted</td>\n",
       "      <td>0.995794</td>\n",
       "    </tr>\n",
       "    <tr>\n",
       "      <th>...</th>\n",
       "      <td>...</td>\n",
       "      <td>...</td>\n",
       "      <td>...</td>\n",
       "    </tr>\n",
       "    <tr>\n",
       "      <th>9316</th>\n",
       "      <td>این فوق العاده است اگه تخری از دستت رفته</td>\n",
       "      <td>delighted</td>\n",
       "      <td>0.919844</td>\n",
       "    </tr>\n",
       "    <tr>\n",
       "      <th>9317</th>\n",
       "      <td>بدترین چراغ قوه‌ای که تا حالا دیدم</td>\n",
       "      <td>delighted</td>\n",
       "      <td>0.479886</td>\n",
       "    </tr>\n",
       "    <tr>\n",
       "      <th>9318</th>\n",
       "      <td>سه جفت خروجی ولت کیفیت صدا اصلا قابل مقایسه با...</td>\n",
       "      <td>delighted</td>\n",
       "      <td>0.484131</td>\n",
       "    </tr>\n",
       "    <tr>\n",
       "      <th>9319</th>\n",
       "      <td>این ادوتویلت بسیار شکیل و بوی خاص و ماندگاری خ...</td>\n",
       "      <td>delighted</td>\n",
       "      <td>0.993633</td>\n",
       "    </tr>\n",
       "    <tr>\n",
       "      <th>9320</th>\n",
       "      <td>ظریف و نازک هست به همین علت زیر لباس معلوم نمی...</td>\n",
       "      <td>happy</td>\n",
       "      <td>0.976984</td>\n",
       "    </tr>\n",
       "  </tbody>\n",
       "</table>\n",
       "<p>9321 rows × 3 columns</p>\n",
       "</div>"
      ]
     },
     "execution_count": 274,
     "metadata": {},
     "output_type": "execute_result"
    }
   ],
   "execution_count": 274
  },
  {
   "metadata": {
    "ExecuteTime": {
     "end_time": "2025-05-13T20:11:59.033123Z",
     "start_time": "2025-05-13T20:11:59.027615Z"
    }
   },
   "cell_type": "code",
   "source": [
    "unique_labels = np.unique(labeled_comments[\"labels\"])\n",
    "unique_labels"
   ],
   "outputs": [
    {
     "data": {
      "text/plain": [
       "array(['angry', 'delighted', 'furious', 'happy', 'neutral'], dtype=object)"
      ]
     },
     "execution_count": 254,
     "metadata": {},
     "output_type": "execute_result"
    }
   ],
   "execution_count": 254
  },
  {
   "metadata": {
    "ExecuteTime": {
     "end_time": "2025-05-13T20:13:49.437536Z",
     "start_time": "2025-05-13T20:13:49.431049Z"
    }
   },
   "cell_type": "code",
   "source": [
    "encoded_labels = {'angry': 2, 'furious': 2, 'happy': 1, 'delighted': 1, 'neutral': 0}\n",
    "labeled_comments[\"labels\"] = labeled_comments[\"labels\"].map(encoded_labels)\n",
    "labeled_comments"
   ],
   "outputs": [
    {
     "data": {
      "text/plain": [
       "                                                comment  labels    scores\n",
       "0     بوی تند ولی خوشبو داره ماندگاریش خوبه و هر چقد...       1  0.985857\n",
       "1     متاسفانه عمر مفید این ماشین کم هست و بعد از دو...       2  0.942945\n",
       "2     افا از وقتی من اینو واسه پسرم خریدم همه بچه‌ها...       0  0.346233\n",
       "3     این تیغ محصول کشور آمریکا هست در عکس محصول مشخ...       1  0.996132\n",
       "4     سرعت گرم و علی‌الخصوص سرد کردن خیلی پایین هست ...       1  0.995794\n",
       "...                                                 ...     ...       ...\n",
       "9316           این فوق العاده است اگه تخری از دستت رفته       1  0.919844\n",
       "9317                 بدترین چراغ قوه‌ای که تا حالا دیدم       1  0.479886\n",
       "9318  سه جفت خروجی ولت کیفیت صدا اصلا قابل مقایسه با...       1  0.484131\n",
       "9319  این ادوتویلت بسیار شکیل و بوی خاص و ماندگاری خ...       1  0.993633\n",
       "9320  ظریف و نازک هست به همین علت زیر لباس معلوم نمی...       1  0.976984\n",
       "\n",
       "[9321 rows x 3 columns]"
      ],
      "text/html": [
       "<div>\n",
       "<style scoped>\n",
       "    .dataframe tbody tr th:only-of-type {\n",
       "        vertical-align: middle;\n",
       "    }\n",
       "\n",
       "    .dataframe tbody tr th {\n",
       "        vertical-align: top;\n",
       "    }\n",
       "\n",
       "    .dataframe thead th {\n",
       "        text-align: right;\n",
       "    }\n",
       "</style>\n",
       "<table border=\"1\" class=\"dataframe\">\n",
       "  <thead>\n",
       "    <tr style=\"text-align: right;\">\n",
       "      <th></th>\n",
       "      <th>comment</th>\n",
       "      <th>labels</th>\n",
       "      <th>scores</th>\n",
       "    </tr>\n",
       "  </thead>\n",
       "  <tbody>\n",
       "    <tr>\n",
       "      <th>0</th>\n",
       "      <td>بوی تند ولی خوشبو داره ماندگاریش خوبه و هر چقد...</td>\n",
       "      <td>1</td>\n",
       "      <td>0.985857</td>\n",
       "    </tr>\n",
       "    <tr>\n",
       "      <th>1</th>\n",
       "      <td>متاسفانه عمر مفید این ماشین کم هست و بعد از دو...</td>\n",
       "      <td>2</td>\n",
       "      <td>0.942945</td>\n",
       "    </tr>\n",
       "    <tr>\n",
       "      <th>2</th>\n",
       "      <td>افا از وقتی من اینو واسه پسرم خریدم همه بچه‌ها...</td>\n",
       "      <td>0</td>\n",
       "      <td>0.346233</td>\n",
       "    </tr>\n",
       "    <tr>\n",
       "      <th>3</th>\n",
       "      <td>این تیغ محصول کشور آمریکا هست در عکس محصول مشخ...</td>\n",
       "      <td>1</td>\n",
       "      <td>0.996132</td>\n",
       "    </tr>\n",
       "    <tr>\n",
       "      <th>4</th>\n",
       "      <td>سرعت گرم و علی‌الخصوص سرد کردن خیلی پایین هست ...</td>\n",
       "      <td>1</td>\n",
       "      <td>0.995794</td>\n",
       "    </tr>\n",
       "    <tr>\n",
       "      <th>...</th>\n",
       "      <td>...</td>\n",
       "      <td>...</td>\n",
       "      <td>...</td>\n",
       "    </tr>\n",
       "    <tr>\n",
       "      <th>9316</th>\n",
       "      <td>این فوق العاده است اگه تخری از دستت رفته</td>\n",
       "      <td>1</td>\n",
       "      <td>0.919844</td>\n",
       "    </tr>\n",
       "    <tr>\n",
       "      <th>9317</th>\n",
       "      <td>بدترین چراغ قوه‌ای که تا حالا دیدم</td>\n",
       "      <td>1</td>\n",
       "      <td>0.479886</td>\n",
       "    </tr>\n",
       "    <tr>\n",
       "      <th>9318</th>\n",
       "      <td>سه جفت خروجی ولت کیفیت صدا اصلا قابل مقایسه با...</td>\n",
       "      <td>1</td>\n",
       "      <td>0.484131</td>\n",
       "    </tr>\n",
       "    <tr>\n",
       "      <th>9319</th>\n",
       "      <td>این ادوتویلت بسیار شکیل و بوی خاص و ماندگاری خ...</td>\n",
       "      <td>1</td>\n",
       "      <td>0.993633</td>\n",
       "    </tr>\n",
       "    <tr>\n",
       "      <th>9320</th>\n",
       "      <td>ظریف و نازک هست به همین علت زیر لباس معلوم نمی...</td>\n",
       "      <td>1</td>\n",
       "      <td>0.976984</td>\n",
       "    </tr>\n",
       "  </tbody>\n",
       "</table>\n",
       "<p>9321 rows × 3 columns</p>\n",
       "</div>"
      ]
     },
     "execution_count": 275,
     "metadata": {},
     "output_type": "execute_result"
    }
   ],
   "execution_count": 275
  },
  {
   "metadata": {
    "ExecuteTime": {
     "end_time": "2025-05-13T20:13:51.467018Z",
     "start_time": "2025-05-13T20:13:51.462315Z"
    }
   },
   "cell_type": "code",
   "source": "labeled_comments.dropna(inplace=True)",
   "outputs": [],
   "execution_count": 276
  },
  {
   "metadata": {
    "ExecuteTime": {
     "end_time": "2025-05-13T20:20:12.835597Z",
     "start_time": "2025-05-13T20:20:12.763636Z"
    }
   },
   "cell_type": "code",
   "source": [
    "distributions = labeled_comments['labels'].value_counts() / len(labeled_comments) * 100\n",
    "sns.barplot(distributions)"
   ],
   "outputs": [
    {
     "data": {
      "text/plain": [
       "<Axes: xlabel='labels', ylabel='count'>"
      ]
     },
     "execution_count": 294,
     "metadata": {},
     "output_type": "execute_result"
    },
    {
     "data": {
      "text/plain": [
       "<Figure size 640x480 with 1 Axes>"
      ],
      "image/png": "[encoded data removed]"
     },
     "metadata": {},
     "output_type": "display_data"
    }
   ],
   "execution_count": 294
  },
  {
   "metadata": {
    "ExecuteTime": {
     "end_time": "2025-05-13T20:24:20.855410Z",
     "start_time": "2025-05-13T20:24:20.848256Z"
    }
   },
   "cell_type": "code",
   "source": [
    "from sklearn.model_selection import train_test_split\n",
    "from imblearn.under_sampling import RandomUnderSampler\n",
    "\n",
    "X = labeled_comments['comment']\n",
    "y = labeled_comments['labels']\n",
    "\n",
    "under_sampler = RandomUnderSampler(random_state=0)\n",
    "X_new, y_new = under_sampler.fit_resample(X.values.reshape(-1, 1), y)\n",
    "\n",
    "X_train, X_test, y_train, y_test = train_test_split(X_new, y_new, test_size=0.2, random_state=42)"
   ],
   "outputs": [],
   "execution_count": 306
  },
  {
   "metadata": {
    "ExecuteTime": {
     "end_time": "2025-05-13T20:24:22.397617Z",
     "start_time": "2025-05-13T20:24:22.372931Z"
    }
   },
   "cell_type": "code",
   "source": [
    "from sklearn.feature_extraction.text import CountVectorizer\n",
    "\n",
    "vectorizer = CountVectorizer()\n",
    "\n",
    "X_train = vectorizer.fit_transform(X_train.ravel())\n",
    "X_test = vectorizer.transform(X_test.ravel())"
   ],
   "outputs": [],
   "execution_count": 307
  },
  {
   "metadata": {},
   "cell_type": "markdown",
   "source": "### Train model for predicting labels"
  },
  {
   "metadata": {
    "ExecuteTime": {
     "end_time": "2025-05-13T20:24:41.679734Z",
     "start_time": "2025-05-13T20:24:41.568549Z"
    }
   },
   "cell_type": "code",
   "source": [
    "from sklearn.naive_bayes import MultinomialNB\n",
    "from sklearn.metrics import classification_report\n",
    "from sklearn.ensemble import AdaBoostClassifier\n",
    "\n",
    "clf = AdaBoostClassifier(estimator=MultinomialNB(), n_estimators=100, random_state=42)\n",
    "clf.fit(X_train, y_train)\n",
    "\n",
    "y_pred = clf.predict(X_test)\n",
    "print(classification_report(y_test, y_pred))"
   ],
   "outputs": [
    {
     "name": "stdout",
     "output_type": "stream",
     "text": [
      "              precision    recall  f1-score   support\n",
      "\n",
      "           0       0.61      0.59      0.60        93\n",
      "           1       0.64      0.69      0.66       117\n",
      "           2       0.59      0.54      0.56        80\n",
      "\n",
      "    accuracy                           0.62       290\n",
      "   macro avg       0.61      0.61      0.61       290\n",
      "weighted avg       0.62      0.62      0.62       290\n",
      "\n"
     ]
    }
   ],
   "execution_count": 310
  }
 ]
}
