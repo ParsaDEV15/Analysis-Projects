{
 "nbformat": 4,
 "nbformat_minor": 0,
 "metadata": {
  "colab": {
   "provenance": []
  },
  "kernelspec": {
   "name": "python3",
   "display_name": "Python 3 (ipykernel)",
   "language": "python"
  },
  "language_info": {
   "name": "python"
  }
 },
 "cells": [
  {
   "cell_type": "code",
   "metadata": {
    "id": "844_szKtxUsx",
    "ExecuteTime": {
     "end_time": "2025-04-21T13:13:06.619275Z",
     "start_time": "2025-04-21T13:13:06.616194Z"
    }
   },
   "source": [
    "import pandas as pd\n",
    "import numpy as np\n",
    "from parsivar import FindStems, Tokenizer, Normalizer\n",
    "from sklearn.feature_extraction.text import TfidfVectorizer\n",
    "from sklearn.model_selection import train_test_split\n",
    "from sklearn.naive_bayes import MultinomialNB\n",
    "from sklearn.metrics import classification_report"
   ],
   "outputs": [],
   "execution_count": 44
  },
  {
   "cell_type": "code",
   "source": [
    "df = pd.read_csv(\"Snappfood - Sentiment Analysis.csv\", encoding=\"UTF-8\", sep='\\t')\n",
    "df.head()"
   ],
   "metadata": {
    "colab": {
     "base_uri": "https://localhost:8080/",
     "height": 206
    },
    "id": "fakRX1bwxloZ",
    "outputId": "2f811b00-fd6c-4fff-f314-83d0d17566b0",
    "ExecuteTime": {
     "end_time": "2025-04-21T13:13:06.788612Z",
     "start_time": "2025-04-21T13:13:06.632113Z"
    }
   },
   "outputs": [
    {
     "data": {
      "text/plain": [
       "  Unnamed: 0                                            comment  label  \\\n",
       "0        NaN    واقعا حیف وقت که بنویسم سرویس دهیتون شده افتضاح    SAD   \n",
       "1        NaN  قرار بود ۱ ساعته برسه ولی نیم ساعت زودتر از مو...  HAPPY   \n",
       "2        NaN  قیمت این مدل اصلا با کیفیتش سازگاری نداره، فقط...    SAD   \n",
       "3        NaN  عالللی بود همه چه درست و به اندازه و کیفیت خوب...  HAPPY   \n",
       "4        NaN                      شیرینی وانیلی فقط یک مدل بود.  HAPPY   \n",
       "\n",
       "   label_id  \n",
       "0       1.0  \n",
       "1       0.0  \n",
       "2       1.0  \n",
       "3       0.0  \n",
       "4       0.0  "
      ],
      "text/html": [
       "<div>\n",
       "<style scoped>\n",
       "    .dataframe tbody tr th:only-of-type {\n",
       "        vertical-align: middle;\n",
       "    }\n",
       "\n",
       "    .dataframe tbody tr th {\n",
       "        vertical-align: top;\n",
       "    }\n",
       "\n",
       "    .dataframe thead th {\n",
       "        text-align: right;\n",
       "    }\n",
       "</style>\n",
       "<table border=\"1\" class=\"dataframe\">\n",
       "  <thead>\n",
       "    <tr style=\"text-align: right;\">\n",
       "      <th></th>\n",
       "      <th>Unnamed: 0</th>\n",
       "      <th>comment</th>\n",
       "      <th>label</th>\n",
       "      <th>label_id</th>\n",
       "    </tr>\n",
       "  </thead>\n",
       "  <tbody>\n",
       "    <tr>\n",
       "      <th>0</th>\n",
       "      <td>NaN</td>\n",
       "      <td>واقعا حیف وقت که بنویسم سرویس دهیتون شده افتضاح</td>\n",
       "      <td>SAD</td>\n",
       "      <td>1.0</td>\n",
       "    </tr>\n",
       "    <tr>\n",
       "      <th>1</th>\n",
       "      <td>NaN</td>\n",
       "      <td>قرار بود ۱ ساعته برسه ولی نیم ساعت زودتر از مو...</td>\n",
       "      <td>HAPPY</td>\n",
       "      <td>0.0</td>\n",
       "    </tr>\n",
       "    <tr>\n",
       "      <th>2</th>\n",
       "      <td>NaN</td>\n",
       "      <td>قیمت این مدل اصلا با کیفیتش سازگاری نداره، فقط...</td>\n",
       "      <td>SAD</td>\n",
       "      <td>1.0</td>\n",
       "    </tr>\n",
       "    <tr>\n",
       "      <th>3</th>\n",
       "      <td>NaN</td>\n",
       "      <td>عالللی بود همه چه درست و به اندازه و کیفیت خوب...</td>\n",
       "      <td>HAPPY</td>\n",
       "      <td>0.0</td>\n",
       "    </tr>\n",
       "    <tr>\n",
       "      <th>4</th>\n",
       "      <td>NaN</td>\n",
       "      <td>شیرینی وانیلی فقط یک مدل بود.</td>\n",
       "      <td>HAPPY</td>\n",
       "      <td>0.0</td>\n",
       "    </tr>\n",
       "  </tbody>\n",
       "</table>\n",
       "</div>"
      ]
     },
     "execution_count": 45,
     "metadata": {},
     "output_type": "execute_result"
    }
   ],
   "execution_count": 45
  },
  {
   "cell_type": "markdown",
   "source": [],
   "metadata": {
    "id": "iNPYV2uu1jSX"
   }
  },
  {
   "cell_type": "code",
   "source": [
    "df.columns"
   ],
   "metadata": {
    "colab": {
     "base_uri": "https://localhost:8080/"
    },
    "id": "Lg1Jvuzh1JNI",
    "outputId": "e084fcae-1c69-4a64-9a27-93ea1b8d1d6c",
    "ExecuteTime": {
     "end_time": "2025-04-21T13:13:06.792634Z",
     "start_time": "2025-04-21T13:13:06.789617Z"
    }
   },
   "outputs": [
    {
     "data": {
      "text/plain": [
       "Index(['Unnamed: 0', 'comment', 'label', 'label_id'], dtype='object')"
      ]
     },
     "execution_count": 46,
     "metadata": {},
     "output_type": "execute_result"
    }
   ],
   "execution_count": 46
  },
  {
   "metadata": {
    "ExecuteTime": {
     "end_time": "2025-04-21T13:13:06.806600Z",
     "start_time": "2025-04-21T13:13:06.792634Z"
    }
   },
   "cell_type": "code",
   "source": "df.info()",
   "outputs": [
    {
     "name": "stdout",
     "output_type": "stream",
     "text": [
      "<class 'pandas.core.frame.DataFrame'>\n",
      "RangeIndex: 70000 entries, 0 to 69999\n",
      "Data columns (total 4 columns):\n",
      " #   Column      Non-Null Count  Dtype  \n",
      "---  ------      --------------  -----  \n",
      " 0   Unnamed: 0  520 non-null    object \n",
      " 1   comment     70000 non-null  object \n",
      " 2   label       70000 non-null  object \n",
      " 3   label_id    69480 non-null  float64\n",
      "dtypes: float64(1), object(3)\n",
      "memory usage: 2.1+ MB\n"
     ]
    }
   ],
   "execution_count": 47
  },
  {
   "metadata": {
    "ExecuteTime": {
     "end_time": "2025-04-21T13:13:06.820432Z",
     "start_time": "2025-04-21T13:13:06.807528Z"
    }
   },
   "cell_type": "code",
   "source": "df.isnull().sum()",
   "outputs": [
    {
     "data": {
      "text/plain": [
       "Unnamed: 0    69480\n",
       "comment           0\n",
       "label             0\n",
       "label_id        520\n",
       "dtype: int64"
      ]
     },
     "execution_count": 48,
     "metadata": {},
     "output_type": "execute_result"
    }
   ],
   "execution_count": 48
  },
  {
   "metadata": {
    "ExecuteTime": {
     "end_time": "2025-04-21T13:13:06.826244Z",
     "start_time": "2025-04-21T13:13:06.820432Z"
    }
   },
   "cell_type": "code",
   "source": [
    "mask = df['label_id'].isnull()\n",
    "df.loc[mask, 'label_id'] = df.loc[mask].apply(lambda row: 0 if row['label'] == 'HAPPY' else 1, axis=1)"
   ],
   "outputs": [],
   "execution_count": 49
  },
  {
   "cell_type": "code",
   "source": [
    "X = df['comment']\n",
    "y = df[\"label_id\"]"
   ],
   "metadata": {
    "id": "Hlchfgb623xH",
    "ExecuteTime": {
     "end_time": "2025-04-21T13:13:06.829565Z",
     "start_time": "2025-04-21T13:13:06.826244Z"
    }
   },
   "outputs": [],
   "execution_count": 50
  },
  {
   "cell_type": "code",
   "source": [
    "from string import punctuation\n",
    "\n",
    "punc = punctuation + \"۱۲۳۴٤۵۶٦۷۸۹۰1234567890،؛\"\n",
    "stop_words = open('stopwords-fa.txt', 'r', encoding='utf-8').read().splitlines()\n",
    "\n",
    "normalizer = Normalizer()\n",
    "tokenizer = Tokenizer()\n",
    "stemmer = FindStems()\n",
    "\n",
    "def text_preprocess(X):\n",
    "    normalized = normalizer.normalize(X)\n",
    "    tokens = tokenizer.tokenize_words(normalized)\n",
    "    words = [stemmer.convert_to_stem(w) for w in tokens if w not in stop_words and w not in punc and not w.isdigit()]\n",
    "    tokens = \" \".join(words)\n",
    "    return tokens\n",
    "\n",
    "X = X.apply(text_preprocess)"
   ],
   "metadata": {
    "id": "AJLQTIYy3xKZ",
    "ExecuteTime": {
     "end_time": "2025-04-21T13:13:21.233345Z",
     "start_time": "2025-04-21T13:13:06.829894Z"
    }
   },
   "outputs": [],
   "execution_count": 51
  },
  {
   "cell_type": "code",
   "source": "X.head()",
   "metadata": {
    "colab": {
     "base_uri": "https://localhost:8080/",
     "height": 263
    },
    "id": "v80ztt_P6a2H",
    "outputId": "7f2bc488-bfb1-4e51-af08-b87dcc119226",
    "ExecuteTime": {
     "end_time": "2025-04-21T13:13:21.237667Z",
     "start_time": "2025-04-21T13:13:21.234351Z"
    }
   },
   "outputs": [
    {
     "data": {
      "text/plain": [
       "0            حیف وقت نوشت&نویس سرویس دهیتون‌شده‌افتضاح\n",
       "1    قرار‌بود ساعته برسه نیم ساعت زود موقع دید&بین ...\n",
       "2    قیمت مدل کیفیت سازگاری نداره ظاهر فریبنده داره...\n",
       "3    عالللی‌بود درست اندازه کیفیت امیداورم کیفیتتون...\n",
       "4                                   شیرینی نیل مدل‌بود\n",
       "Name: comment, dtype: object"
      ]
     },
     "execution_count": 52,
     "metadata": {},
     "output_type": "execute_result"
    }
   ],
   "execution_count": 52
  },
  {
   "metadata": {
    "ExecuteTime": {
     "end_time": "2025-04-21T13:14:12.858199Z",
     "start_time": "2025-04-21T13:14:12.351885Z"
    }
   },
   "cell_type": "code",
   "source": [
    "X_train, X_test, y_train, y_test = train_test_split(X, y, test_size=0.2, random_state=42)\n",
    "\n",
    "vectorizer = TfidfVectorizer(max_features=5000)\n",
    "X_train = vectorizer.fit_transform(X_train)\n",
    "X_test = vectorizer.transform(X_test)"
   ],
   "outputs": [],
   "execution_count": 61
  },
  {
   "metadata": {
    "ExecuteTime": {
     "end_time": "2025-04-21T13:14:18.273237Z",
     "start_time": "2025-04-21T13:14:18.258747Z"
    }
   },
   "cell_type": "code",
   "source": [
    "model = MultinomialNB()\n",
    "model.fit(X_train, y_train)\n",
    "\n",
    "y_pred = model.predict(X_test)\n",
    "print(classification_report(y_test, y_pred))"
   ],
   "outputs": [
    {
     "name": "stdout",
     "output_type": "stream",
     "text": [
      "              precision    recall  f1-score   support\n",
      "\n",
      "         0.0       0.87      0.76      0.81      6962\n",
      "         1.0       0.79      0.88      0.83      7038\n",
      "\n",
      "    accuracy                           0.82     14000\n",
      "   macro avg       0.83      0.82      0.82     14000\n",
      "weighted avg       0.83      0.82      0.82     14000\n",
      "\n"
     ]
    }
   ],
   "execution_count": 62
  }
 ]
}
