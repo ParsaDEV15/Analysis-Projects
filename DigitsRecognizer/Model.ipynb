{
 "cells": [
  {
   "metadata": {
    "ExecuteTime": {
     "end_time": "2025-04-28T14:48:43.455678Z",
     "start_time": "2025-04-28T14:48:43.400824Z"
    }
   },
   "cell_type": "code",
   "source": [
    "from sklearn.datasets import fetch_openml\n",
    "from sklearn.model_selection import train_test_split\n",
    "from sklearn.svm import SVC\n",
    "from sklearn.metrics import classification_report\n",
    "\n",
    "X, y = fetch_openml('mnist_784', return_X_y=True)\n",
    "\n",
    "X_train, X_test, y_train, y_test = train_test_split(X, y, test_size=0.2, random_state=42, stratify=y, shuffle=True)\n",
    "\n",
    "X_train = X_train / 255\n",
    "X_test = X_test / 255\n",
    "\n",
    "svc = SVC(kernel='rbf', max_iter=200, gamma=0.1)\n",
    "svc.fit(X_train, y_train)\n",
    "\n",
    "y_pred = svc.predict(X_test)\n",
    "\n",
    "print(classification_report(y_test, y_pred))"
   ],
   "id": "6d54a30a6d29a84c",
   "outputs": [
    {
     "name": "stdout",
     "output_type": "stream",
     "text": [
      "              precision    recall  f1-score   support\n",
      "\n",
      "           0       0.99      0.99      0.99      1381\n",
      "           1       0.98      0.99      0.99      1575\n",
      "           2       0.98      0.98      0.98      1398\n",
      "           3       0.98      0.97      0.97      1428\n",
      "           4       0.97      0.98      0.97      1365\n",
      "           5       0.98      0.98      0.98      1263\n",
      "           6       0.99      0.99      0.99      1375\n",
      "           7       0.98      0.98      0.98      1459\n",
      "           8       0.98      0.97      0.97      1365\n",
      "           9       0.97      0.96      0.97      1391\n",
      "\n",
      "    accuracy                           0.98     14000\n",
      "   macro avg       0.98      0.98      0.98     14000\n",
      "weighted avg       0.98      0.98      0.98     14000\n",
      "\n"
     ]
    }
   ],
   "execution_count": 40
  },
  {
   "metadata": {
    "ExecuteTime": {
     "end_time": "2025-04-28T14:47:12.486982Z",
     "start_time": "2025-04-28T14:47:12.475062Z"
    }
   },
   "cell_type": "code",
   "source": [
    "import cv2 as cv\n",
    "import numpy as np\n",
    "\n",
    "img = cv.imread('Numbers2.png')\n",
    "img = cv.cvtColor(img, cv.COLOR_BGR2GRAY)\n",
    "ret, thresh = cv.threshold(img, 127, 255, cv.THRESH_BINARY)\n",
    "contours, hierarchy = cv.findContours(thresh, cv.RETR_EXTERNAL, cv.CHAIN_APPROX_SIMPLE)\n",
    "\n",
    "numbers = []\n",
    "for cnt in contours:\n",
    "    black_background = np.zeros((28, 28))\n",
    "    x, y , w, h = cv.boundingRect(cnt)\n",
    "    digit = thresh[y:y+h, x:x+w]\n",
    "    resized_digit = cv.resize(digit, (20, 20), interpolation=cv.INTER_AREA)\n",
    "    x_middle = (28 - 20) // 2\n",
    "    y_middle = (28 - 20) // 2\n",
    "    black_background[y_middle:y_middle+20, x_middle:x_middle+20] = resized_digit\n",
    "    numbers.append(black_background)\n",
    "\n",
    "cv.destroyAllWindows()"
   ],
   "id": "166d7379a7a53a60",
   "outputs": [],
   "execution_count": 37
  },
  {
   "metadata": {
    "ExecuteTime": {
     "end_time": "2025-04-28T14:48:14.965084Z",
     "start_time": "2025-04-28T14:48:14.962721Z"
    }
   },
   "cell_type": "code",
   "source": [
    "for number in numbers:\n",
    "    standard_num = number / 255\n",
    "    predict_num = svc.predict(standard_num.reshape(1, -1))\n",
    "    print('Number is:', predict_num)\n",
    "    cv.imshow('Number Image', number)\n",
    "    cv.waitKey(0)\n",
    "\n",
    "cv.destroyAllWindows()"
   ],
   "id": "c524e7ce4b6fe5d1",
   "outputs": [],
   "execution_count": 39
  }
 ],
 "metadata": {
  "kernelspec": {
   "display_name": "Python 3",
   "language": "python",
   "name": "python3"
  },
  "language_info": {
   "codemirror_mode": {
    "name": "ipython",
    "version": 2
   },
   "file_extension": ".py",
   "mimetype": "text/x-python",
   "name": "python",
   "nbconvert_exporter": "python",
   "pygments_lexer": "ipython2",
   "version": "2.7.6"
  }
 },
 "nbformat": 4,
 "nbformat_minor": 5
}
