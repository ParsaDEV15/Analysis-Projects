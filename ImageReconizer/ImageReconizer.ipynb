{
 "cells": [
  {
   "cell_type": "code",
   "id": "initial_id",
   "metadata": {
    "collapsed": true,
    "ExecuteTime": {
     "end_time": "2025-03-08T11:42:28.340199Z",
     "start_time": "2025-03-08T11:42:28.337777Z"
    }
   },
   "source": [
    "from sklearn.datasets import fetch_openml\n",
    "from sklearn.preprocessing import LabelEncoder\n",
    "from sklearn.model_selection import train_test_split\n",
    "from sklearn.svm import SVC\n",
    "from sklearn.neighbors import LocalOutlierFactor\n",
    "from sklearn.preprocessing import StandardScaler\n",
    "from sklearn.metrics import classification_report\n",
    "import numpy as np"
   ],
   "outputs": [],
   "execution_count": 8
  },
  {
   "metadata": {
    "ExecuteTime": {
     "end_time": "2025-03-08T11:42:38.479008Z",
     "start_time": "2025-03-08T11:42:28.342223Z"
    }
   },
   "cell_type": "code",
   "source": [
    "cifar10 = fetch_openml('CIFAR_10')\n",
    "X, y = cifar10.data, cifar10.target"
   ],
   "id": "e253ecdd03372733",
   "outputs": [],
   "execution_count": 9
  },
  {
   "metadata": {
    "ExecuteTime": {
     "end_time": "2025-03-08T11:42:40.459993Z",
     "start_time": "2025-03-08T11:42:38.480011Z"
    }
   },
   "cell_type": "code",
   "source": [
    "encoder = LabelEncoder()\n",
    "y = encoder.fit_transform(y)\n",
    "\n",
    "scaler = StandardScaler()\n",
    "X = scaler.fit_transform(X)"
   ],
   "id": "5e78d5ac25e083cc",
   "outputs": [],
   "execution_count": 10
  },
  {
   "metadata": {
    "ExecuteTime": {
     "end_time": "2025-03-08T11:43:20.186209Z",
     "start_time": "2025-03-08T11:42:40.459993Z"
    }
   },
   "cell_type": "code",
   "source": [
    "lof = LocalOutlierFactor(n_neighbors=5, contamination=0.02, n_jobs=-1)\n",
    "lof_outliers = lof.fit_predict(X)\n",
    "\n",
    "outliers_idx = np.where(lof_outliers == -1)[0]\n",
    "\n",
    "X = np.delete(X, outliers_idx, axis=0)\n",
    "y = np.delete(y, outliers_idx, axis=0)\n",
    "\n",
    "X_train, X_test, y_train, y_test = train_test_split(X, y, test_size=0.2, random_state=42)"
   ],
   "id": "a7efb28792283665",
   "outputs": [],
   "execution_count": 11
  },
  {
   "metadata": {
    "ExecuteTime": {
     "end_time": "2025-03-08T13:10:54.099290Z",
     "start_time": "2025-03-08T13:10:54.089618Z"
    }
   },
   "cell_type": "code",
   "source": [
    "clf = SVC(C=1, kernel='rbf', max_iter=2400)\n",
    "clf.fit(X_train, y_train)\n",
    "\n",
    "y_pred = clf.predict(X_test)\n",
    "print(classification_report(y_test, y_pred))"
   ],
   "id": "bf5b78437d594101",
   "outputs": [
    {
     "name": "stdout",
     "output_type": "stream",
     "text": [
      "              precision    recall  f1-score   support\n",
      "\n",
      "           0       0.59      0.57      0.58      1147\n",
      "           1       0.67      0.65      0.66      1208\n",
      "           2       0.42      0.30      0.35      1140\n",
      "           3       0.39      0.32      0.35      1159\n",
      "           4       0.42      0.49      0.45      1190\n",
      "           5       0.45      0.44      0.44      1172\n",
      "           6       0.51      0.67      0.58      1170\n",
      "           7       0.62      0.57      0.59      1183\n",
      "           8       0.66      0.69      0.67      1211\n",
      "           9       0.60      0.65      0.62      1180\n",
      "\n",
      "    accuracy                           0.54     11760\n",
      "   macro avg       0.53      0.53      0.53     11760\n",
      "weighted avg       0.53      0.54      0.53     11760\n",
      "\n"
     ]
    }
   ],
   "execution_count": 17
  }
 ],
 "metadata": {
  "kernelspec": {
   "display_name": "Python 3",
   "language": "python",
   "name": "python3"
  },
  "language_info": {
   "codemirror_mode": {
    "name": "ipython",
    "version": 2
   },
   "file_extension": ".py",
   "mimetype": "text/x-python",
   "name": "python",
   "nbconvert_exporter": "python",
   "pygments_lexer": "ipython2",
   "version": "2.7.6"
  }
 },
 "nbformat": 4,
 "nbformat_minor": 5
}
